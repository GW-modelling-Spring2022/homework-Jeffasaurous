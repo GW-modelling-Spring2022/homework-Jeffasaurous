{
 "cells": [
  {
   "cell_type": "markdown",
   "metadata": {},
   "source": [
    "##THIS IS ALL JUSTINS WORK I COULD NOT FIND A WAY TO GET IT OUT OR DOWNLOAD IT SO I AM LETTING YOU KNOW HERE"
   ]
  },
  {
   "cell_type": "code",
   "execution_count": 76,
   "metadata": {},
   "outputs": [],
   "source": [
    "#the basics\n",
    "import flopy\n",
    "import numpy as np\n",
    "import matplotlib as mp\n",
    "import os\n",
    "\n",
    "#additional analysis tools\n",
    "import flopy.utils.binaryfile as bf\n",
    "from mpl_toolkits.mplot3d import Axes3D\n",
    "import matplotlib.pyplot as plt\n",
    "from matplotlib import cm\n",
    "from matplotlib.ticker import LinearLocator, FormatStrFormatter\n",
    "import csv\n",
    "import statistics\n",
    "#jupyter specific--included to show plots in notebook\n",
    "%matplotlib inline "
   ]
  },
  {
   "cell_type": "code",
   "execution_count": 77,
   "metadata": {},
   "outputs": [],
   "source": [
    "modelname = \"HW7_Project\"\n",
    "moddir = \"/Applications/MODFLOW/mf2005\"\n",
    "m = flopy.modflow.Modflow(modelname, exe_name = moddir)\n",
    "#moddir = os.getcwd()+\"\\\\modflowdir\\\\mf2005.exe\""
   ]
  },
  {
   "cell_type": "code",
   "execution_count": 78,
   "metadata": {},
   "outputs": [],
   "source": [
    "#optional delete old run files\n",
    "run = 'n'\n",
    "if run == 'y':\n",
    "    file_extensions = ['.dis','.bas','.lpf','.oc','.pcg','.wel']\n",
    "    #file_extensions = ['.dis','.bas','.bcf','.oc','.pcg', '.wel', 'rch']\n",
    "    for ext in file_extensions:\n",
    "        os.remove(modelname + ext)"
   ]
  },
  {
   "cell_type": "code",
   "execution_count": 79,
   "metadata": {},
   "outputs": [],
   "source": [
    "#Justification: Creating a 50x50 grid of 50mx50m cells allowed for a more accurate spatial representation of the farms than if I had stayed with 100x100m. \n",
    "\n",
    "nrow = 50 #number of rows\n",
    "ncol = 50 #number of columns\n",
    "nlay = 1  #number of layers\n",
    "\n",
    "dx= 50 #width of grid cells in x direction \n",
    "dy= 50 #width of grid cells in y direction \n",
    "\n",
    "Lx = ncol*dx  #width of domain in x\n",
    "Ly = nrow*dy #width of domain in y\n",
    "ztop = 900    #top elevation. If layer thickness is any less than 900m, the entire domain gets sucked dry by the ACME farm wells. \n",
    "zbot = 0     #bottom elevation\n",
    "\n",
    "dz = (ztop - zbot) / nlay #cell height in z direction"
   ]
  },
  {
   "cell_type": "code",
   "execution_count": 80,
   "metadata": {},
   "outputs": [],
   "source": [
    "nper = 1 #number of stress periods \n",
    "steady = [True] #list noting the stress period type"
   ]
  },
  {
   "cell_type": "code",
   "execution_count": 81,
   "metadata": {},
   "outputs": [],
   "source": [
    "#create flopy discretization object, length and time are meters (2) and days (4)\n",
    "dis = flopy.modflow.ModflowDis(model=m, nlay=nlay, nrow=nrow, ncol=ncol, \n",
    "                               delr=dx, delc=dy, top=ztop, botm=zbot, \n",
    "                               itmuni = 4, lenuni = 2, \n",
    "                               nper=nper, steady=steady)"
   ]
  },
  {
   "cell_type": "code",
   "execution_count": 82,
   "metadata": {},
   "outputs": [
    {
     "data": {
      "image/png": "[encoded data removed]",
      "text/plain": [
       "<Figure size 432x288 with 1 Axes>"
      ]
     },
     "metadata": {
      "needs_background": "light"
     },
     "output_type": "display_data"
    }
   ],
   "source": [
    "#use flopy to plot the grid of model 'm'\n",
    "modelmap = flopy.plot.PlotMapView(model=m, layer=0)\n",
    "grid = modelmap.plot_grid() \n",
    "plt.xlabel('Lx (m)',fontsize = 14)\n",
    "plt.ylabel('Ly (m)',fontsize = 14)\n",
    "plt.title('Grid', fontsize = 15, fontweight = 'bold')\n",
    "plt.show()"
   ]
  },
  {
   "cell_type": "code",
   "execution_count": 83,
   "metadata": {},
   "outputs": [],
   "source": [
    "#create ibound as array of ints = 1\n",
    "ibound = np.ones((nlay, nrow, ncol), dtype=np.int32) #integer array of dim (z,y,x), makes all cells active     \n",
    "\n",
    "#set constant head boundary on the left\n",
    "ibound[:,:,0] = -1          #replace leftmost column (all zs, all ys, first x) with -1 to indicate constant head \n",
    "ibound[:,:,-1] = -1          #replace leftmost column (all zs, all ys, first x) with -1 to indicate constant head \n",
    "\n",
    "#print(\"ibound values: \\n\", ibound)"
   ]
  },
  {
   "cell_type": "code",
   "execution_count": 84,
   "metadata": {},
   "outputs": [
    {
     "name": "stdout",
     "output_type": "stream",
     "text": [
      "starting head values: \n",
      " [[[895.   1.   1. ...   1.   1. 849.]\n",
      "  [895.   1.   1. ...   1.   1. 849.]\n",
      "  [895.   1.   1. ...   1.   1. 849.]\n",
      "  ...\n",
      "  [895.   1.   1. ...   1.   1. 849.]\n",
      "  [895.   1.   1. ...   1.   1. 849.]\n",
      "  [895.   1.   1. ...   1.   1. 849.]]]\n"
     ]
    }
   ],
   "source": [
    "H_init = np.ones((nlay, nrow, ncol), dtype=np.float32)  #float array (i.e. decimal), sets all heads to 1.0\n",
    "\n",
    "# Assumption: heads at observation wells are representative of heads at domain boundaries, since they're so close\n",
    "\n",
    "H_left = ztop-5 # Left boundary constant head value. Average of NW and SW heads (layer thickness minus WTD)\n",
    "H_right = ztop-51  # Right boundary constant head value. Average of NE and SE heads at obs wells \n",
    "H_init[:, :, 0] = H_left  # replace first (left) col with desired head value\n",
    "H_init[:, :, -1] = H_right  # replace first (left) col with desired head value\n",
    "\n",
    "print(\"starting head values: \\n\", H_init)"
   ]
  },
  {
   "cell_type": "code",
   "execution_count": 85,
   "metadata": {},
   "outputs": [],
   "source": [
    "#create flopy bas object\n",
    "bas = flopy.modflow.ModflowBas(m, ibound=ibound, strt=H_init)"
   ]
  },
  {
   "cell_type": "code",
   "execution_count": 86,
   "metadata": {},
   "outputs": [
    {
     "data": {
      "image/png": "[encoded data removed]",
      "text/plain": [
       "<Figure size 432x288 with 1 Axes>"
      ]
     },
     "metadata": {
      "needs_background": "light"
     },
     "output_type": "display_data"
    }
   ],
   "source": [
    "#plot grid and ibound\n",
    "modelmap = flopy.plot.PlotMapView(model=m, layer=0)\n",
    "grid = modelmap.plot_grid()\n",
    "ib = modelmap.plot_ibound()\n",
    "#add labels and legend\n",
    "plt.xlabel('Lx (m)',fontsize = 14)\n",
    "plt.ylabel('Ly (m)',fontsize = 14)\n",
    "plt.title('Ibound', fontsize = 15, fontweight = 'bold')\n",
    "plt.legend(handles=[mp.patches.Patch(color='blue',label='Const. Head',ec='black'),\n",
    "                   mp.patches.Patch(color='white',label='Active Cell',ec='black'),\n",
    "                   mp.patches.Patch(color='black',label='Inactive Cell',ec='black')],\n",
    "                   bbox_to_anchor=(1.5,1.0))\n",
    "plt.show(modelmap)"
   ]
  },
  {
   "cell_type": "code",
   "execution_count": 87,
   "metadata": {},
   "outputs": [],
   "source": [
    "K_vals = np.zeros((nlay, nrow, ncol))\n",
    "K_vals[:, 0:25, 0:25] = 1.5    # NW K values\n",
    "K_vals[:, 0:25, 25:50] = 1    # NE K values    Scenario #1: This section for 1 K per quadrant, based on respective observation well\n",
    "K_vals[:, 25:50, 0:25] = 13    # SW K values\n",
    "K_vals[:, 25:50, 25:50] = 8.4    # SE K values\n",
    "\n",
    "#K_vals[:, 0:25, 0:50] = 1.20   # Harmonic Avg of Top     Scenario #2: This section for 1 K on top half, and 1 K on bottom half\n",
    "#K_vals[:, 25:50, 0:50] = 10.21   # Harmonic Avg of Bottom\n",
    "\n",
    "#Note: If I understood python better, and had more time, I'd want to try to use bilinear interpolation and give each cell it's own unique K. \n",
    "\n",
    "K_vert = 1     #Either the value of hvertical K or the ratio of horizontal to vertical K (refer to documentation_)\n",
    "\n",
    "n = 0.35        #assign porosity\n",
    "Ss = 0.001      #assign storage coefficient\n",
    "Sy = 0.3        #assign specific yield\n",
    "laytype = 1       #0=confined, >0 = convertible (for the LPF file)"
   ]
  },
  {
   "cell_type": "code",
   "execution_count": 88,
   "metadata": {},
   "outputs": [
    {
     "data": {
      "image/png": "[encoded data removed]",
      "text/plain": [
       "<Figure size 720x720 with 2 Axes>"
      ]
     },
     "metadata": {
      "needs_background": "light"
     },
     "output_type": "display_data"
    },
    {
     "name": "stdout",
     "output_type": "stream",
     "text": [
      "[[[ 1.5  1.5  1.5 ...  1.   1.   1. ]\n",
      "  [ 1.5  1.5  1.5 ...  1.   1.   1. ]\n",
      "  [ 1.5  1.5  1.5 ...  1.   1.   1. ]\n",
      "  ...\n",
      "  [13.  13.  13.  ...  8.4  8.4  8.4]\n",
      "  [13.  13.  13.  ...  8.4  8.4  8.4]\n",
      "  [13.  13.  13.  ...  8.4  8.4  8.4]]]\n"
     ]
    }
   ],
   "source": [
    "#plot K values in top layer\n",
    "#Note: below diagram doesn't show the difference between 1.5 m/day and 1 m/day in the NW and NE quadrants, respectively. Don't know how to change color bar. \n",
    "fig1 = plt.figure(figsize=(10, 10))  # create 10 x 10 figure\n",
    "plt.xlabel('Lx (m)', fontsize=14)\n",
    "plt.ylabel('Ly (m)', fontsize=14)\n",
    "plt.title('K in top layer', fontsize=15, fontweight='bold')\n",
    "plt.contourf(np.flipud(K_vals[0, :, :]))\n",
    "plt.colorbar()\n",
    "plt.show()\n",
    "print(K_vals)"
   ]
  },
  {
   "cell_type": "code",
   "execution_count": 89,
   "metadata": {},
   "outputs": [],
   "source": [
    "#assigns horizontal and vertical Ks and saves cell-by-cell budget data\n",
    "lpf = flopy.modflow.ModflowLpf(m, laytyp=laytype, hk=K_vals, \n",
    "                                vka=K_vert, ss=Ss,\n",
    "                                sy=Sy,storagecoefficient=True, ipakcb=53) "
   ]
  },
  {
   "cell_type": "code",
   "execution_count": 90,
   "metadata": {},
   "outputs": [],
   "source": [
    "#assigns horizontal and vertical Ks and saves cell-by-cell budget data\n",
    "#bcf = flopy.modflow.ModflowBcf(m, ipakcb=53, intercellt=0, laycon=3, trpy=1.0, hdry=-1e+30, iwdflg=0, wetfct=0.1, iwetit=1, ihdwet=0, tran=1.0, hy=K_vals[0,:,:], vcont=1.0, sf1=Ss, sf2=Sy, wetdry=-0.01, extension='bcf', unitnumber=None, filenames=None) \n"
   ]
  },
  {
   "cell_type": "code",
   "execution_count": 91,
   "metadata": {},
   "outputs": [
    {
     "name": "stdout",
     "output_type": "stream",
     "text": [
      "oc stress period data: \n",
      " {(0, 0): ['print head', 'print budget', 'save head', 'save budget']}\n"
     ]
    }
   ],
   "source": [
    "#create oc stress period data. \n",
    "#(0,0) tells OC package to save data for stress period 1, time step 1.\n",
    "spd = {(0,0):['print head', 'print budget', 'save head', 'save budget']} #create a dictionary for stress period data, where key (0,0) is associated with value ['print...'] \n",
    "\n",
    "print(\"oc stress period data: \\n\", spd)"
   ]
  },
  {
   "cell_type": "code",
   "execution_count": 92,
   "metadata": {},
   "outputs": [],
   "source": [
    "oc = flopy.modflow.ModflowOc(model=m, stress_period_data=spd, compact=True)"
   ]
  },
  {
   "cell_type": "code",
   "execution_count": 93,
   "metadata": {},
   "outputs": [],
   "source": [
    "pcg = flopy.modflow.ModflowPcg(model=m)"
   ]
  },
  {
   "cell_type": "code",
   "execution_count": 94,
   "metadata": {},
   "outputs": [
    {
     "name": "stdout",
     "output_type": "stream",
     "text": [
      "{0: [[0, 16, 5, -421], [0, 25, 24, -6205], [0, 35, 24, -6205]]}\n"
     ]
    }
   ],
   "source": [
    "Q_wildcat = -421 # Calculated amount of water needed per day, based on cotton consumptive water use, area of wildcat farm, and extra 20%. \n",
    "\n",
    "Q_acme1 = -6205 # half of 12409. ACME farm requires a total of 12409 m^3/day, and initial thought is to split amount evently between two wells\n",
    "                # Scenario #3 will be me adjusting the location of the ACME wells. \n",
    "Q_acme2 = -6205 #  \n",
    "\n",
    "fluxes1 = [0,16,5,Q_wildcat]\n",
    "fluxes2 = [0,25,24,Q_acme1] \n",
    "fluxes3 = [0,35,24,Q_acme2] \n",
    "\n",
    "sp_fluxes = {0: [fluxes1, fluxes2, fluxes3]}              #create a dictionary with entries for each stress period\n",
    "\n",
    "print(sp_fluxes)"
   ]
  },
  {
   "cell_type": "code",
   "execution_count": 95,
   "metadata": {},
   "outputs": [],
   "source": [
    "wel = flopy.modflow.mfwel.ModflowWel(m, stress_period_data=sp_fluxes)  #create object for WEL package"
   ]
  },
  {
   "cell_type": "code",
   "execution_count": 96,
   "metadata": {},
   "outputs": [
    {
     "name": "stdout",
     "output_type": "stream",
     "text": [
      "[[0.0001 0.0001 0.0001 ... 0.0001 0.0001 0.0001]\n",
      " [0.0001 0.0001 0.0001 ... 0.0001 0.0001 0.0001]\n",
      " [0.0001 0.0001 0.0001 ... 0.0001 0.0001 0.0001]\n",
      " ...\n",
      " [0.0001 0.0001 0.0001 ... 0.0001 0.0001 0.0001]\n",
      " [0.0001 0.0001 0.0001 ... 0.0001 0.0001 0.0001]\n",
      " [0.0001 0.0001 0.0001 ... 0.0001 0.0001 0.0001]]\n"
     ]
    }
   ],
   "source": [
    "#Recharge \n",
    "rech_zone = np.zeros((nrow,ncol))               #define an array of zeros of dim (nrow,ncol)\n",
    "rech_zone[:,:] = 1e-4\n",
    "wildcat_recharge = .00057                     #m/day      \n",
    "acme_recharge = .00103                          #m/day\n",
    "rech_zone[13:20,2:9] = wildcat_recharge\n",
    "rech_zone[10:50,14:34] = acme_recharge\n",
    "\n",
    "# Note: Recharge for farms is the excess 20% water that is not consumed by the plants. \n",
    "# Trying to incorporate the background recharge into farm recharge is unnecessary, since it's insignificant compared to the irrigation recharge.   \n",
    "\n",
    "print(rech_zone)\n",
    "\n",
    "rch = flopy.modflow.mfrch.ModflowRch(model=m, rech=rech_zone, ipakcb=53)     #create rch object"
   ]
  },
  {
   "cell_type": "code",
   "execution_count": 97,
   "metadata": {},
   "outputs": [],
   "source": [
    "#ET\n",
    "ET_zone = np.zeros((nlay,nrow,ncol))     # define an array of zeroes the size of the model grid\n",
    "bkgndET = 5e-5  #set background ET value m/day\n",
    "ET_zone = ET_zone + bkgndET  #apply background ET to the entire domain \n",
    "\n",
    "extinction_depth = 3\n",
    "#extinction depth is the depth where if our water table is below that, our ET will be ZERO #between surface and extinction depth is just a linear interpolation\n",
    "\n",
    "\n",
    "evt = flopy.modflow.mfevt.ModflowEvt(model=m, surf=ztop, evtr=ET_zone, exdp=extinction_depth, ipakcb=53) #ipakcb makes sure it applies to water balance of all cells, default is 0, 53 is a safe integer to choose, some are taken \n"
   ]
  },
  {
   "cell_type": "code",
   "execution_count": 98,
   "metadata": {},
   "outputs": [],
   "source": [
    "m.write_input()    #uses the package objects created above to actually write the text files, \n",
    "                    #and saves to folder that this script is in\n",
    "                    #after this step you should see the files appear in your folder"
   ]
  },
  {
   "cell_type": "code",
   "execution_count": 99,
   "metadata": {},
   "outputs": [
    {
     "name": "stdout",
     "output_type": "stream",
     "text": [
      "FloPy is using the following executable to run the model: /Applications/MODFLOW/mf2005\n",
      "\n",
      "                                  MODFLOW-2005     \n",
      "    U.S. GEOLOGICAL SURVEY MODULAR FINITE-DIFFERENCE GROUND-WATER FLOW MODEL\n",
      "                             Version 1.12.00 2/3/2017                        \n",
      "\n",
      " Using NAME file: HW7_Project.nam \n",
      " Run start date and time (yyyy/mm/dd hh:mm:ss): 2022/03/17 12:58:54\n",
      "\n",
      " Solving:  Stress period:     1    Time step:     1    Ground-Water Flow Eqn.\n",
      " Run end date and time (yyyy/mm/dd hh:mm:ss): 2022/03/17 12:58:54\n",
      " Elapsed run time:  0.074 Seconds\n",
      "\n",
      " FAILED TO MEET SOLVER CONVERGENCE CRITERIA            1  TIME(S)\n"
     ]
    },
    {
     "ename": "Exception",
     "evalue": "MODFLOW did not terminate normally.",
     "output_type": "error",
     "traceback": [
      "\u001b[0;31m---------------------------------------------------------------------------\u001b[0m",
      "\u001b[0;31mException\u001b[0m                                 Traceback (most recent call last)",
      "\u001b[0;32m/var/folders/3s/x5z237nn6h38g_71fwrntbjh0000gn/T/ipykernel_2316/554020471.py\u001b[0m in \u001b[0;36m<module>\u001b[0;34m\u001b[0m\n\u001b[1;32m      1\u001b[0m \u001b[0msuccess\u001b[0m\u001b[0;34m,\u001b[0m \u001b[0mmfoutput\u001b[0m \u001b[0;34m=\u001b[0m \u001b[0mm\u001b[0m\u001b[0;34m.\u001b[0m\u001b[0mrun_model\u001b[0m\u001b[0;34m(\u001b[0m\u001b[0mpause\u001b[0m\u001b[0;34m=\u001b[0m\u001b[0;32mFalse\u001b[0m\u001b[0;34m,\u001b[0m \u001b[0mreport\u001b[0m\u001b[0;34m=\u001b[0m\u001b[0;32mTrue\u001b[0m\u001b[0;34m)\u001b[0m\u001b[0;34m\u001b[0m\u001b[0;34m\u001b[0m\u001b[0m\n\u001b[1;32m      2\u001b[0m \u001b[0;32mif\u001b[0m \u001b[0;32mnot\u001b[0m \u001b[0msuccess\u001b[0m\u001b[0;34m:\u001b[0m\u001b[0;34m\u001b[0m\u001b[0;34m\u001b[0m\u001b[0m\n\u001b[0;32m----> 3\u001b[0;31m     \u001b[0;32mraise\u001b[0m \u001b[0mException\u001b[0m\u001b[0;34m(\u001b[0m\u001b[0;34m'MODFLOW did not terminate normally.'\u001b[0m\u001b[0;34m)\u001b[0m\u001b[0;34m\u001b[0m\u001b[0;34m\u001b[0m\u001b[0m\n\u001b[0m",
      "\u001b[0;31mException\u001b[0m: MODFLOW did not terminate normally."
     ]
    }
   ],
   "source": [
    "success, mfoutput = m.run_model(pause=False, report=True)\n",
    "if not success:\n",
    "    raise Exception('MODFLOW did not terminate normally.')"
   ]
  },
  {
   "cell_type": "code",
   "execution_count": null,
   "metadata": {},
   "outputs": [],
   "source": [
    "headobj = bf.HeadFile(modelname+'.hds')    #reads the binary head file\n",
    "times = headobj.get_times()                #returns a list of timesteps\n",
    "head = headobj.get_data(totim=times[-1])        #returns a numpy array of heads for specified time (last timestep)\n",
    "\n",
    "#print('timesteps:', times)         \n",
    "#print('final head:', 'dimensions', np.shape(head), '\\n', head)    \n",
    "#print('initial head:', 'dimensions', np.shape(H_init), '\\n', H_init)\n",
    "#print('well fluxes:', 'dimensions', np.shape(fluxes), '\\n', fluxes)"
   ]
  },
  {
   "cell_type": "code",
   "execution_count": null,
   "metadata": {},
   "outputs": [],
   "source": [
    "with open('FP_heads.csv', 'w', newline='') as csvfile:  #creates an empty csv file called FP_heads\n",
    "    writer = csv.writer(csvfile, delimiter=',')        \n",
    "    for i in range(len(head[0,:,0])):                    #writes each row\n",
    "        writer.writerow(head[0,i,:])"
   ]
  },
  {
   "cell_type": "code",
   "execution_count": null,
   "metadata": {},
   "outputs": [],
   "source": [
    "budgobj = bf.CellBudgetFile(modelname+'.cbc')  # reads the cell budget file\n",
    "kstpkper_list = budgobj.get_kstpkper() #returns a list of stress periods & timesteps\n",
    "#dummy = budgobj.list_records()\n",
    "\n",
    "\n",
    "#Get the ET from the cell budget files\n",
    "et = budgobj.get_data(text='et', totim=1.0)\n",
    "et_vals = np.squeeze(et)[1,:,:] #This is a matrix of the ET fluxes [m3/day]\n",
    "et_tot= np.sum(et_vals)\n",
    "print(\"Total ET [m3/day]:\", et_tot) #This is the total ET flux across the domain\n",
    "\n",
    "#Note: No ET, since WTD > extinction depth for entire domain\n",
    "\n",
    "#Get the recharge from the cell budget files\n",
    "recharge = budgobj.get_data(text='recharge', totim=1.0)\n",
    "recharge_vals = np.squeeze(recharge)[1,:,:] #This is a matrix of the recharge fluxes [m3/day]\n",
    "rch_tot = np.sum(recharge_vals)\n",
    "print(\"Total Recharge [m3/day]:\", np.round(rch_tot, 1))  # This is the total recharge flux across the domain\n",
    "\n",
    "\n",
    "# Get the flow rates on the cell right and front faces\n",
    "frf = budgobj.get_data(text='flow right face', totim=1.0)\n",
    "fff = budgobj.get_data(text='flow front face', totim=1.0)\n",
    "flux_vals = np.squeeze(frf)\n",
    "leftflux = np.round(flux_vals[:, 0], 4)\n",
    "rightflux = np.round(flux_vals[:, -2], 4)\n",
    "\n",
    "# Calculate the total flux across the right and left side of the domain\n",
    "right_tot = np.sum(rightflux)  # Note the units of this are L3/T\n",
    "left_tot = np.sum(leftflux)\n",
    "\n",
    "print('Left Flux =', left_tot, \" Right_flux=\", right_tot)\n",
    "print('WTD at Wildcat Farm Well =' , np.round(ztop-head[0,16,5], 1))"
   ]
  },
  {
   "cell_type": "code",
   "execution_count": null,
   "metadata": {},
   "outputs": [],
   "source": [
    "#Plot ET, Recharge and WTD\n",
    "fig, (ax1, ax2, ax3) = plt.subplots(1, 3, figsize=(15,15))\n",
    "fig.tight_layout(pad=3.0)\n",
    "\n",
    "#ET\n",
    "ax1.set_xlabel('Lx (x 50 m)', fontsize=10)\n",
    "ax1.set_ylabel('Ly (x 50 m)', fontsize=10)\n",
    "ax1.set_title('ET [m3/day]', fontsize=10, fontweight='bold')\n",
    "ax1.set_aspect('equal')\n",
    "etplot = ax1.contourf(np.flipud(et_vals))\n",
    "fig.colorbar(etplot, ax=ax1, shrink=0.3)\n",
    "\n",
    "#Recharge\n",
    "ax2.set_xlabel('Lx (x 50 m)', fontsize=10)\n",
    "#ax2.set_ylabel('Ly (x 50 m)', fontsize=10)\n",
    "ax2.set_title('Rechg. [m3/day]', fontsize=10, fontweight='bold')\n",
    "ax2.set_aspect('equal')\n",
    "rchplot = ax2.contourf(np.flipud(recharge_vals))\n",
    "fig.colorbar(rchplot, ax=ax2, shrink=0.3)\n",
    "\n",
    "\n",
    "#WTD\n",
    "#Calcualte WTD at the domain thickness (ztop) minus the head\n",
    "WTD = ztop-head\n",
    "ax3.set_xlabel('Lx (x 50m)', fontsize=10)\n",
    "#ax3.set_ylabel('Ly (x 50m)', fontsize=10)\n",
    "ax3.set_title('WTD [m]', fontsize=10, fontweight='bold')\n",
    "ax3.set_aspect('equal')\n",
    "wtdplot = ax3.contourf(np.flipud(WTD[0,:,:]))\n",
    "fig.colorbar(wtdplot, ax=ax3, shrink=0.3)\n",
    "\n",
    "plt.show()"
   ]
  },
  {
   "cell_type": "code",
   "execution_count": null,
   "metadata": {},
   "outputs": [],
   "source": [
    "bdryflux_fig = plt.figure() \n",
    "ylocs=np.arange(0,ncol*dy, dy) \n",
    "plt.plot(ylocs, np.flip(leftflux),marker='o', color='red', markersize=4, linestyle='-',label=\"left boundary\")\n",
    "plt.plot(ylocs, np.flip(rightflux),marker='x', color='blue', markersize=4, linestyle='--',label=\"right boundary\")\n",
    "plt.xlabel('Y location')\n",
    "plt.ylabel('Flow')\n",
    "plt.title(\"Boundary Flows\")\n",
    "plt.legend()\n",
    "plt.show()"
   ]
  },
  {
   "cell_type": "code",
   "execution_count": null,
   "metadata": {},
   "outputs": [],
   "source": [
    "head_fig = plt.figure() \n",
    "xcenters=np.arange(dx/2,ncol*dx,dx) \n",
    "headplot=head[0,16,:]\n",
    "plt.plot(xcenters,headplot,marker='o', color='mediumvioletred', markersize=4, linestyle='--')\n",
    "plt.xlabel('X location')\n",
    "plt.ylabel('Head')\n",
    "plt.title(\"Head along row 16\")\n",
    "#plt.axvline(x=1200)\n",
    "\n",
    "#Save figure\n",
    "# plt.savefig('Head_Transect.png') #save figure as a png\n",
    "\n",
    "hgrad=(head[0,5,0]-head[0,5,-1])/Lx\n",
    "print(\"Head Gradient\", hgrad, \"m/m\") "
   ]
  },
  {
   "cell_type": "code",
   "execution_count": null,
   "metadata": {},
   "outputs": [],
   "source": [
    "#create 3d figure\n",
    "fig_3d = plt.figure(figsize=(12,5))\n",
    "ax = fig_3d.gca(projection='3d')\n",
    "\n",
    "#set X, Y, Z variables for 3d plot to be our model domain and head solution\n",
    "X = np.arange(0,Lx,dx)\n",
    "Y = np.arange(0,Ly,dy)\n",
    "X, Y = np.meshgrid(X, Y)\n",
    "Z = np.flipud(head[0])\n",
    "\n",
    "#create surface and labels\n",
    "surf = ax.plot_surface(X,Y,Z, cmap = 'viridis', linewidth=0, label='head')\n",
    "fig_3d.colorbar(surf,shrink=0.5,aspect=5).set_label('Head (m)',fontsize=10,fontweight='bold')\n",
    "ax.set_xlabel('Lx (m)', fontsize=15, fontweight='bold')\n",
    "ax.set_ylabel('Ly (m)', fontsize=15, fontweight='bold')\n",
    "ax.set_title('Steady-State Model Head Profile', fontsize=15, fontweight='bold')\n",
    "# plt.savefig('BoxModel_Surface1.png') \n",
    "#plt.show(surf)"
   ]
  },
  {
   "cell_type": "code",
   "execution_count": null,
   "metadata": {},
   "outputs": [],
   "source": [
    "#create 2d figure - note, axes relate to well being defined as layer, row, column, flux\n",
    "CS=plt.contour(np.flipud(head[0]))\n",
    "plt.xlabel(\"column\")\n",
    "plt.ylabel(\"row\")\n",
    "plt.title(\"Plan View Head Contours\")\n",
    "plt.clabel(CS, inline=1, fontsize=10)\n",
    "plt.show()\n",
    "\n",
    "# calculate linear head drop (no pumping)\n",
    "bkgnd_head=np.linspace(H_left,H_right,ncol)\n",
    "bkgnd_head=np.tile(bkgnd_head,(ncol,1))\n",
    "CS=plt.contour(np.flipud(bkgnd_head-head[0]))\n",
    "plt.xlabel(\"column\")\n",
    "plt.ylabel(\"row\")\n",
    "plt.title(\"Head differences from a linear water table \")\n",
    "plt.clabel(CS, inline=1, fontsize=10)\n",
    "plt.show()"
   ]
  },
  {
   "cell_type": "code",
   "execution_count": null,
   "metadata": {},
   "outputs": [],
   "source": [
    "#plot first contour plot\n",
    "fig1 = plt.figure(figsize=(10,10)) #create 10 x 10 figure\n",
    "modelmap = flopy.plot.PlotMapView(model=m, layer=0) #use modelmap to attach plot to model\n",
    "#grid = modelmap.plot_grid() #plot model grid\n",
    "qm = modelmap.plot_ibound()  \n",
    "contour_levels = np.linspace(head[0].min(),head[0].max(),11) #set contour levels for contouring head\n",
    "head_contours = modelmap.contour_array(head, levels=contour_levels) #create head contours\n",
    "flows = modelmap.plot_discharge(frf[0], fff[0], head=head) #create discharge arrows\n",
    "\n",
    "#display parameters\n",
    "plt.xlabel('Lx (m)',fontsize = 14)\n",
    "plt.ylabel('Ly (m)',fontsize = 14)\n",
    "plt.title('Steady-State Model, Flow(m^3/d) and Head(m) Results', fontsize = 15, fontweight = 'bold')\n",
    "plt.colorbar(head_contours,aspect=5)\n",
    "# plt.savefig('BoxModel_vectors.png')   \n",
    "#plt.show(modelmap)"
   ]
  }
 ],
 "metadata": {
  "interpreter": {
   "hash": "4925f6a580aad4a203e1fa0a78302f425bddd56836b555b6e313b17a3e2aef6a"
  },
  "kernelspec": {
   "display_name": "Python 3.8.12 ('gwmod')",
   "language": "python",
   "name": "python3"
  },
  "language_info": {
   "codemirror_mode": {
    "name": "ipython",
    "version": 3
   },
   "file_extension": ".py",
   "mimetype": "text/x-python",
   "name": "python",
   "nbconvert_exporter": "python",
   "pygments_lexer": "ipython3",
   "version": "3.8.12"
  },
  "orig_nbformat": 4
 },
 "nbformat": 4,
 "nbformat_minor": 2
}
